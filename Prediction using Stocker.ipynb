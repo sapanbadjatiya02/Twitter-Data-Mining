{
 "cells": [
  {
   "cell_type": "code",
   "execution_count": 1,
   "metadata": {},
   "outputs": [],
   "source": [
    "#Predection for facebook stock price using Stocker:\n",
    "#Install Stocker through your cmd\n",
    "from stocker import Stocker\n",
    "import flask\n",
    "import pygments\n",
    "from flask_restful import Resource, Api\n",
    "\n",
    "#Run the Stocker.py file in python"
   ]
  },
  {
   "cell_type": "code",
   "execution_count": null,
   "metadata": {},
   "outputs": [],
   "source": [
    "#NOTE: Close each graph to see the next graph\n",
    "\n",
    "#Setting Facebook's Stock as the Stock\n",
    "fbstock = Stocker('FB')\n",
    "\n",
    "#Plotting the FB's Stock Price history\n",
    "fbstock.plot_stock()"
   ]
  },
  {
   "cell_type": "code",
   "execution_count": 1,
   "metadata": {},
   "outputs": [],
   "source": [
    "#Evaluating the Stock Prediction of FB's Stock Price\n",
    "fbstock.evaluate_prediction()\n"
   ]
  },
  {
   "cell_type": "code",
   "execution_count": null,
   "metadata": {},
   "outputs": [],
   "source": [
    "# Predict days into the future\n",
    "model, model_data = fbstock.create_prophet_model(days=90)\n"
   ]
  }
 ],
 "metadata": {
  "kernelspec": {
   "display_name": "Python 3",
   "language": "python",
   "name": "python3"
  },
  "language_info": {
   "codemirror_mode": {
    "name": "ipython",
    "version": 3
   },
   "file_extension": ".py",
   "mimetype": "text/x-python",
   "name": "python",
   "nbconvert_exporter": "python",
   "pygments_lexer": "ipython3",
   "version": "3.6.4"
  }
 },
 "nbformat": 4,
 "nbformat_minor": 2
}
